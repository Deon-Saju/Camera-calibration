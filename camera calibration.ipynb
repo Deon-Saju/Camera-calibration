{
 "cells": [
  {
   "cell_type": "markdown",
   "id": "a9bc280c",
   "metadata": {},
   "source": [
    "#### Hacklab Solutions Private Limited"
   ]
  },
  {
   "cell_type": "markdown",
   "id": "b39af4e3",
   "metadata": {},
   "source": [
    "##### Artificial Intelligence (AI/ML) internship"
   ]
  },
  {
   "cell_type": "markdown",
   "id": "aa144ac2",
   "metadata": {},
   "source": [
    "1. The process of estimating the parameters of a camera is called camera calibration.\n",
    "This means we have all the information (parameters or coefficients) about the camera required to determine an accurate relationship between a 3D point in the real world and its corresponding 2D projection (pixel) in the image captured by that calibrated camera.\n",
    "\n",
    "Write a python script to automatically find the camera calibration parameters using a 6x8 checkerboard pattern. \n",
    "Record a video (or share photographs) to show how the calibration setup works.\n",
    "\n",
    "You can find the checkerboard pattern here: \n",
    "\n",
    "https://raw.githubusercontent.com/MarkHedleyJones/markhedleyjones.github.io/master/media/calibration-checkerboard-collection/Checkerboard-A4-30mm-8x6.pdf\n"
   ]
  },
  {
   "cell_type": "code",
   "execution_count": 1,
   "id": "87e9284e",
   "metadata": {},
   "outputs": [],
   "source": [
    "import numpy as np\n",
    "import cv2 as cv\n",
    "import glob"
   ]
  },
  {
   "cell_type": "code",
   "execution_count": 2,
   "id": "8de6029e",
   "metadata": {},
   "outputs": [],
   "source": [
    "# termination criteria\n",
    "criteria = (cv.TERM_CRITERIA_EPS + cv.TERM_CRITERIA_MAX_ITER, 30, 0.001)\n",
    "\n",
    "# prepare object points, like (0,0,0), (1,0,0), (2,0,0) ....,(6,5,0)\n",
    "objp = np.zeros((6*8,3), np.float32)\n",
    "objp[:,:2] = np.mgrid[0:8,0:6].T.reshape(-1,2)\n",
    "\n",
    "# Arrays to store object points and image points from all the images.\n",
    "objpoints = [] # 3d point in real world space\n",
    "imgpoints = [] # 2d points in image plane.\n",
    "\n"
   ]
  },
  {
   "cell_type": "code",
   "execution_count": 3,
   "id": "befae1b5",
   "metadata": {},
   "outputs": [],
   "source": [
    "# Capture images of the checkerboard pattern\n",
    "images = glob.glob('*.jpg')\n",
    "for image in images:\n",
    "    img = cv.imread(image)\n",
    "    gray = cv.cvtColor(img, cv.COLOR_BGR2GRAY)\n",
    "\n",
    "    # Find the chess board corners\n",
    "    ret, corners = cv.findChessboardCorners(gray, (8,6), None)\n",
    "\n",
    "    # If found, add object points, image points (after refining them)\n",
    "    if ret == True:\n",
    "        objpoints.append(objp)\n",
    "\n",
    "        cv.cornerSubPix(gray, corners, (11,11), (-1,-1), criteria)\n",
    "        imgpoints.append(corners)\n",
    "\n",
    "        # Draw and display the corners\n",
    "        cv.drawChessboardCorners(img, (8,6), corners, ret)\n",
    "        cv.imshow(\"img\", img)\n",
    "        cv.waitKey(0)\n",
    "\n",
    "cv.destroyAllWindows()"
   ]
  },
  {
   "cell_type": "code",
   "execution_count": 4,
   "id": "ff51cd73",
   "metadata": {},
   "outputs": [],
   "source": [
    "# Calibrate the camera\n",
    "ret, mtx, dist, rvecs, tvecs = cv.calibrateCamera(objpoints, imgpoints, gray.shape[::-1], None, None)\n",
    "\n"
   ]
  },
  {
   "cell_type": "code",
   "execution_count": 5,
   "id": "9cdff7a7",
   "metadata": {},
   "outputs": [],
   "source": [
    "# Save the camera calibration parameters to a file\n",
    "np.savez(\"calibration.npz\", mtx=mtx, dist=dist, rvecs=rvecs, tvecs=tvecs)"
   ]
  },
  {
   "cell_type": "code",
   "execution_count": 6,
   "id": "d622d0bf",
   "metadata": {},
   "outputs": [
    {
     "name": "stdout",
     "output_type": "stream",
     "text": [
      "mtx\n",
      "[[5.51825999e+03 0.00000000e+00 9.49860299e+02]\n",
      " [0.00000000e+00 5.52161483e+03 6.78624462e+02]\n",
      " [0.00000000e+00 0.00000000e+00 1.00000000e+00]]\n",
      "dist\n",
      "[[-2.98349739e-01  3.59454239e+01  1.94949406e-03 -3.29606696e-03\n",
      "  -1.14671647e+03]]\n",
      "rvecs\n",
      "[[[ 1.44385561e-01]\n",
      "  [-1.24364322e-02]\n",
      "  [-6.61647203e-03]]\n",
      "\n",
      " [[ 6.37663367e-03]\n",
      "  [ 7.77621691e-03]\n",
      "  [ 7.31447933e-05]]]\n",
      "tvecs\n",
      "[[[-16.63655932]\n",
      "  [-11.85275565]\n",
      "  [116.46980135]]\n",
      "\n",
      " [[ -3.91358363]\n",
      "  [ -2.83149381]\n",
      "  [ 31.14137059]]]\n"
     ]
    }
   ],
   "source": [
    "from numpy import load\n",
    "\n",
    "data = load('calibration.npz')\n",
    "lst = data.files\n",
    "for item in lst:\n",
    "    print(item)\n",
    "    print(data[item])"
   ]
  }
 ],
 "metadata": {
  "kernelspec": {
   "display_name": "Python 3 (ipykernel)",
   "language": "python",
   "name": "python3"
  },
  "language_info": {
   "codemirror_mode": {
    "name": "ipython",
    "version": 3
   },
   "file_extension": ".py",
   "mimetype": "text/x-python",
   "name": "python",
   "nbconvert_exporter": "python",
   "pygments_lexer": "ipython3",
   "version": "3.9.12"
  }
 },
 "nbformat": 4,
 "nbformat_minor": 5
}
